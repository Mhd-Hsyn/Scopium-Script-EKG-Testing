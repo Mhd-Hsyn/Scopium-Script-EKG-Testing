import pandas as pd

# Read CSV file
df = pd.read_csv("testcsvs/random_symptoms_test_ratio.csv")

# Iterate over each disease
for index, row in df.iterrows():
    disease = row['Disease']
    
    # Create one-hot encoding for live pass
    live_pass = [1, 0] if row['Live Pass Count'] > 0 else [0, 1]
    
    # Create one-hot encoding for beta pass
    beta_pass = [1, 0] if row['Beta Pass Count'] > 0 else [0, 1]
    
    # Construct confusion matrices
    confusion_matrix_live = [[live_pass[0], live_pass[1]], [0, 0]]
    confusion_matrix_beta = [[beta_pass[0], 0], [beta_pass[1], 0]]
    
    # Print confusion matrices
    print("Confusion Matrix for Live Pass -", disease)
    print(pd.DataFrame(confusion_matrix_live, index=['Actual Live', 'Actual Not Live'], columns=['Predicted Live', 'Predicted Not Live']))
    print()
    
    print("Confusion Matrix for Beta Pass -", disease)
    print(pd.DataFrame(confusion_matrix_beta, index=['Actual Beta', 'Actual Not Beta'], columns=['Predicted Beta', 'Predicted Not Beta']))
    print()



import pandas as pd

# Read the CSV file
data = pd.read_csv("testcsvs/live_ratio.csv")

# Create a dictionary to map diseases to indices
disease_to_index = {disease: index for index, disease in enumerate(data['Disease'])}

# Initialize confusion matrix
confusion_matrix = pd.DataFrame(0, index=disease_to_index.keys(), columns=disease_to_index.keys())

# Fill in the confusion matrix using one-hot encoding
for disease, live_pass_count in zip(data['Disease'], data['Live Pass Count']):
    index = disease_to_index[disease]
    confusion_matrix.iloc[index, index] = live_pass_count

print(confusion_matrix)



import matplotlib.pyplot as plt
import seaborn as sns
from sklearn.metrics import confusion_matrix

# Define the actual and predicted classes
actual = ["ischemia", "infracion", "ischemia", "ischemia", "infracion", "ischemia", "ischemia", "ischemia", "infracion", "infracion", "ischemia"]
predicted = ["ischemia", "GI", "ischemia", "ischemia", "GI", "ischemia", "ischemia", "GI", "infracion", "infracion", "ischemia"]

# Define the list of all possible classes
classes = ["ischemia", "infracion", "GI"]

# Create confusion matrix
cm = confusion_matrix(actual, predicted, labels=classes)

# Create a heatmap
plt.figure(figsize=(8, 6))
sns.set(font_scale=1.2)  # Adjust font size
sns.heatmap(cm, annot=True, fmt="d", cmap="Blues", xticklabels=classes, yticklabels=classes)
plt.xlabel('Predicted')
plt.ylabel('Actual')
plt.title('Confusion Matrix')
plt.show()


import pandas as pd 

file_path = 'test.csv'
df = pd.read_csv(file_path)

df.head()


live_data = df[df['live/beta'] == 'live']
beta_data = df[df['live/beta'] == 'beta']

print("Live Data:")
print(live_data)

# Display the beta data
print("\nBeta Data:")
print(beta_data)


live_actual_predict = live_data['desease']
live_model_predict = live_data['model_output'].str.split(',')

live_model_predict


for row in live_model_predict:
    print (row)
    print(len(row))


live_fail_data = df[(df['live/beta'] == 'live') & (df['status'] == 'fail')]
live_fail_data


live_pass_data = df[(df['live/beta'] == 'live') & (df['status'] == 'pass')]
live_pass_data


live_data


live_fail_actual_predict = live_fail_data['desease'].tolist()
live_fail_model_predict = live_fail_data['model_output'].str.split(',').str[0].tolist()

print(live_fail_actual_predict)
live_fail_model_predict


from sklearn.metrics import confusion_matrix
# Create the confusion matrix
cm = confusion_matrix(live_fail_actual_predict, live_fail_model_predict)

# Get unique labels from the actual predictions
labels = sorted(set(live_fail_actual_predict + live_fail_model_predict))

# Convert confusion matrix to DataFrame for better visualization
cm_df = pd.DataFrame(cm, index=labels, columns=labels)
cm_df



import matplotlib.pyplot as plt
import seaborn as sns
from sklearn.metrics import confusion_matrix
import pandas as pd

# Assuming live_fail_actual_predict and live_fail_model_predict are already created

# Create the confusion matrix
cm = confusion_matrix(live_fail_actual_predict, live_fail_model_predict)

# Get unique labels from the actual predictions
labels = sorted(set(live_fail_actual_predict + live_fail_model_predict))

# Convert confusion matrix to DataFrame for better visualization
cm_df = pd.DataFrame(cm, index=labels, columns=labels)

# Plot confusion matrix
plt.figure(figsize=(10, 7))
sns.heatmap(cm_df, annot=True, cmap='Blues', fmt='d')  # Use 'd' format to display integer counts
plt.xlabel('Predicted')
plt.ylabel('Actual')
plt.title('LIVE Fail Confusion Matrix')
plt.show()







